{
 "cells": [
  {
   "cell_type": "markdown",
   "metadata": {
    "id": "cgsVG8yqhjn_"
   },
   "source": [
    "# **Latihan 5 Komputasi Statistika (B)**\n",
    "## Kelompok: 8\n",
    "\n",
    "### Anggota Kelompok:\n",
    "1. Muhamad Rakan Akmal (2106635745)\n",
    "1. Raqi Akbar Robbani (2106652562)\n",
    "1. Rima F Azahra (2106701974)\n",
    "1. Wahyu Dimasdi Putra (2106704736)\n",
    "1. Kamal Muftie Yafi (2106725034)"
   ]
  },
  {
   "cell_type": "markdown",
   "metadata": {
    "id": "GMepq-QTUhdJ"
   },
   "source": [
    "# Distance and Similarity\n",
    "Case Study"
   ]
  },
  {
   "cell_type": "markdown",
   "metadata": {
    "id": "_Cn7TqrSXcnX"
   },
   "source": [
    "###**Euclidean Distance**"
   ]
  },
  {
   "cell_type": "code",
   "execution_count": null,
   "metadata": {
    "colab": {
     "base_uri": "https://localhost:8080/"
    },
    "id": "B3lbbvlxUrE9",
    "outputId": "8a03e19d-f4a6-4b28-8d8b-633286cb9c06"
   },
   "outputs": [
    {
     "name": "stdout",
     "output_type": "stream",
     "text": [
      "2.23606797749979\n"
     ]
    }
   ],
   "source": [
    "# Python code to find Euclidean distance\n",
    "# using linalg.norm()\n",
    "\n",
    "import numpy as np\n",
    "\n",
    "# initializing points in\n",
    "# numpy arrays\n",
    "point1 = np.array((1, 2, 3))\n",
    "point2 = np.array((1, 1, 1))\n",
    "\n",
    "# calculating Euclidean distance\n",
    "# using linalg.norm()\n",
    "dist = np.linalg.norm(point1 - point2)\n",
    "\n",
    "# printing Euclidean distance\n",
    "print(dist)\n"
   ]
  },
  {
   "cell_type": "code",
   "execution_count": null,
   "metadata": {
    "colab": {
     "base_uri": "https://localhost:8080/"
    },
    "id": "YovkJnQIXhfg",
    "outputId": "60ad1e7a-bb1b-493c-fe7f-93daba351add"
   },
   "outputs": [
    {
     "name": "stdout",
     "output_type": "stream",
     "text": [
      "2.23606797749979\n"
     ]
    }
   ],
   "source": [
    "# Python code to find Euclidean distance\n",
    "# using dot()\n",
    "\n",
    "import numpy as np\n",
    "\n",
    "# initializing points in\n",
    "# numpy arrays\n",
    "point1 = np.array((1, 2, 3))\n",
    "point2 = np.array((1, 1, 1))\n",
    "\n",
    "# subtracting vector\n",
    "temp = point1 - point2\n",
    "\n",
    "# doing dot product\n",
    "# for finding\n",
    "# sum of the squares\n",
    "sum_sq = np.dot(temp.T, temp)\n",
    "\n",
    "# Doing squareroot and\n",
    "# printing Euclidean distance\n",
    "print(np.sqrt(sum_sq))\n"
   ]
  },
  {
   "cell_type": "code",
   "execution_count": null,
   "metadata": {
    "colab": {
     "base_uri": "https://localhost:8080/"
    },
    "id": "Nq0ld_9rXlTJ",
    "outputId": "1963c21f-1866-444d-9b52-aca24efdaf3b"
   },
   "outputs": [
    {
     "name": "stdout",
     "output_type": "stream",
     "text": [
      "2.23606797749979\n"
     ]
    }
   ],
   "source": [
    "# Python code to find Euclidean distance\n",
    "# using sum() and square()\n",
    "\n",
    "import numpy as np\n",
    "\n",
    "# initializing points in\n",
    "# numpy arrays\n",
    "point1 = np.array((1, 2, 3))\n",
    "point2 = np.array((1, 1, 1))\n",
    "\n",
    "# finding sum of squares\n",
    "sum_sq = np.sum(np.square(point1 - point2))\n",
    "\n",
    "# Doing squareroot and\n",
    "# printing Euclidean distance\n",
    "print(np.sqrt(sum_sq))\n"
   ]
  },
  {
   "cell_type": "markdown",
   "metadata": {
    "id": "bumAUzRAXsFB"
   },
   "source": [
    "### **KMeans Clustering using different distance metrics**\n",
    "* Lakukan implementasi clustering menggunakan KMeans dengan 3 distance metric yang berbeda. \n",
    "* Lakukan implementasi KMeans untuk nilai K=3, 4, dan 5. Bandingkan hasil tersebut berdasarkan Purity Score.\n"
   ]
  },
  {
   "cell_type": "code",
   "execution_count": null,
   "metadata": {
    "colab": {
     "base_uri": "https://localhost:8080/"
    },
    "id": "BxcTImS23gmY",
    "outputId": "adb4cac8-ba2c-4df5-832d-aa99633f4670"
   },
   "outputs": [
    {
     "name": "stdout",
     "output_type": "stream",
     "text": [
      "Looking in indexes: https://pypi.org/simple, https://us-python.pkg.dev/colab-wheels/public/simple/\n",
      "Requirement already satisfied: pyclustering in /usr/local/lib/python3.8/dist-packages (0.10.1.2)\n",
      "Requirement already satisfied: Pillow>=5.2.0 in /usr/local/lib/python3.8/dist-packages (from pyclustering) (7.1.2)\n",
      "Requirement already satisfied: scipy>=1.1.0 in /usr/local/lib/python3.8/dist-packages (from pyclustering) (1.7.3)\n",
      "Requirement already satisfied: numpy>=1.15.2 in /usr/local/lib/python3.8/dist-packages (from pyclustering) (1.21.6)\n",
      "Requirement already satisfied: matplotlib>=3.0.0 in /usr/local/lib/python3.8/dist-packages (from pyclustering) (3.2.2)\n",
      "Requirement already satisfied: pyparsing!=2.0.4,!=2.1.2,!=2.1.6,>=2.0.1 in /usr/local/lib/python3.8/dist-packages (from matplotlib>=3.0.0->pyclustering) (3.0.9)\n",
      "Requirement already satisfied: cycler>=0.10 in /usr/local/lib/python3.8/dist-packages (from matplotlib>=3.0.0->pyclustering) (0.11.0)\n",
      "Requirement already satisfied: kiwisolver>=1.0.1 in /usr/local/lib/python3.8/dist-packages (from matplotlib>=3.0.0->pyclustering) (1.4.4)\n",
      "Requirement already satisfied: python-dateutil>=2.1 in /usr/local/lib/python3.8/dist-packages (from matplotlib>=3.0.0->pyclustering) (2.8.2)\n",
      "Requirement already satisfied: six>=1.5 in /usr/local/lib/python3.8/dist-packages (from python-dateutil>=2.1->matplotlib>=3.0.0->pyclustering) (1.15.0)\n"
     ]
    }
   ],
   "source": [
    "!pip install pyclustering"
   ]
  },
  {
   "cell_type": "code",
   "execution_count": null,
   "metadata": {
    "id": "pVyIddRYX7xZ"
   },
   "outputs": [],
   "source": [
    "import pandas as pd # dataframe manipulation\n",
    "import numpy as np # linear algebra\n",
    "\n",
    "# data visualization\n",
    "import matplotlib.pyplot as plt\n",
    "%matplotlib inline\n",
    "from yellowbrick.cluster import KElbowVisualizer # cluster visualizer\n",
    "\n",
    "# sklearn kmeans\n",
    "from sklearn.cluster import KMeans\n",
    "from sklearn.metrics.cluster import contingency_matrix\n",
    "\n",
    "# pyclustering kmeans\n",
    "from pyclustering.cluster.kmeans import kmeans\n",
    "from pyclustering.utils.metric import distance_metric\n",
    "from pyclustering.cluster.center_initializer import random_center_initializer\n",
    "from pyclustering.cluster.encoder import type_encoding\n",
    "from pyclustering.cluster.encoder import cluster_encoder\n"
   ]
  },
  {
   "cell_type": "code",
   "execution_count": null,
   "metadata": {
    "id": "lFnQElmUa8wD"
   },
   "outputs": [],
   "source": [
    "from sklearn.datasets import load_iris"
   ]
  },
  {
   "cell_type": "code",
   "execution_count": null,
   "metadata": {
    "colab": {
     "base_uri": "https://localhost:8080/",
     "height": 424
    },
    "id": "gjrDlIZ3bODZ",
    "outputId": "ad2f7bc9-6451-49c4-baf1-dc4b54520dbc"
   },
   "outputs": [
    {
     "data": {
      "text/html": [
       "\n",
       "  <div id=\"df-d47be6c1-3482-41b2-b7c6-6dece0ac150f\">\n",
       "    <div class=\"colab-df-container\">\n",
       "      <div>\n",
       "<style scoped>\n",
       "    .dataframe tbody tr th:only-of-type {\n",
       "        vertical-align: middle;\n",
       "    }\n",
       "\n",
       "    .dataframe tbody tr th {\n",
       "        vertical-align: top;\n",
       "    }\n",
       "\n",
       "    .dataframe thead th {\n",
       "        text-align: right;\n",
       "    }\n",
       "</style>\n",
       "<table border=\"1\" class=\"dataframe\">\n",
       "  <thead>\n",
       "    <tr style=\"text-align: right;\">\n",
       "      <th></th>\n",
       "      <th>Id</th>\n",
       "      <th>SepalLengthCm</th>\n",
       "      <th>SepalWidthCm</th>\n",
       "      <th>PetalLengthCm</th>\n",
       "      <th>PetalWidthCm</th>\n",
       "      <th>Species</th>\n",
       "    </tr>\n",
       "  </thead>\n",
       "  <tbody>\n",
       "    <tr>\n",
       "      <th>0</th>\n",
       "      <td>1</td>\n",
       "      <td>5.1</td>\n",
       "      <td>3.5</td>\n",
       "      <td>1.4</td>\n",
       "      <td>0.2</td>\n",
       "      <td>Iris-setosa</td>\n",
       "    </tr>\n",
       "    <tr>\n",
       "      <th>1</th>\n",
       "      <td>2</td>\n",
       "      <td>4.9</td>\n",
       "      <td>3.0</td>\n",
       "      <td>1.4</td>\n",
       "      <td>0.2</td>\n",
       "      <td>Iris-setosa</td>\n",
       "    </tr>\n",
       "    <tr>\n",
       "      <th>2</th>\n",
       "      <td>3</td>\n",
       "      <td>4.7</td>\n",
       "      <td>3.2</td>\n",
       "      <td>1.3</td>\n",
       "      <td>0.2</td>\n",
       "      <td>Iris-setosa</td>\n",
       "    </tr>\n",
       "    <tr>\n",
       "      <th>3</th>\n",
       "      <td>4</td>\n",
       "      <td>4.6</td>\n",
       "      <td>3.1</td>\n",
       "      <td>1.5</td>\n",
       "      <td>0.2</td>\n",
       "      <td>Iris-setosa</td>\n",
       "    </tr>\n",
       "    <tr>\n",
       "      <th>4</th>\n",
       "      <td>5</td>\n",
       "      <td>5.0</td>\n",
       "      <td>3.6</td>\n",
       "      <td>1.4</td>\n",
       "      <td>0.2</td>\n",
       "      <td>Iris-setosa</td>\n",
       "    </tr>\n",
       "    <tr>\n",
       "      <th>...</th>\n",
       "      <td>...</td>\n",
       "      <td>...</td>\n",
       "      <td>...</td>\n",
       "      <td>...</td>\n",
       "      <td>...</td>\n",
       "      <td>...</td>\n",
       "    </tr>\n",
       "    <tr>\n",
       "      <th>145</th>\n",
       "      <td>146</td>\n",
       "      <td>6.7</td>\n",
       "      <td>3.0</td>\n",
       "      <td>5.2</td>\n",
       "      <td>2.3</td>\n",
       "      <td>Iris-virginica</td>\n",
       "    </tr>\n",
       "    <tr>\n",
       "      <th>146</th>\n",
       "      <td>147</td>\n",
       "      <td>6.3</td>\n",
       "      <td>2.5</td>\n",
       "      <td>5.0</td>\n",
       "      <td>1.9</td>\n",
       "      <td>Iris-virginica</td>\n",
       "    </tr>\n",
       "    <tr>\n",
       "      <th>147</th>\n",
       "      <td>148</td>\n",
       "      <td>6.5</td>\n",
       "      <td>3.0</td>\n",
       "      <td>5.2</td>\n",
       "      <td>2.0</td>\n",
       "      <td>Iris-virginica</td>\n",
       "    </tr>\n",
       "    <tr>\n",
       "      <th>148</th>\n",
       "      <td>149</td>\n",
       "      <td>6.2</td>\n",
       "      <td>3.4</td>\n",
       "      <td>5.4</td>\n",
       "      <td>2.3</td>\n",
       "      <td>Iris-virginica</td>\n",
       "    </tr>\n",
       "    <tr>\n",
       "      <th>149</th>\n",
       "      <td>150</td>\n",
       "      <td>5.9</td>\n",
       "      <td>3.0</td>\n",
       "      <td>5.1</td>\n",
       "      <td>1.8</td>\n",
       "      <td>Iris-virginica</td>\n",
       "    </tr>\n",
       "  </tbody>\n",
       "</table>\n",
       "<p>150 rows × 6 columns</p>\n",
       "</div>\n",
       "      <button class=\"colab-df-convert\" onclick=\"convertToInteractive('df-d47be6c1-3482-41b2-b7c6-6dece0ac150f')\"\n",
       "              title=\"Convert this dataframe to an interactive table.\"\n",
       "              style=\"display:none;\">\n",
       "        \n",
       "  <svg xmlns=\"http://www.w3.org/2000/svg\" height=\"24px\"viewBox=\"0 0 24 24\"\n",
       "       width=\"24px\">\n",
       "    <path d=\"M0 0h24v24H0V0z\" fill=\"none\"/>\n",
       "    <path d=\"M18.56 5.44l.94 2.06.94-2.06 2.06-.94-2.06-.94-.94-2.06-.94 2.06-2.06.94zm-11 1L8.5 8.5l.94-2.06 2.06-.94-2.06-.94L8.5 2.5l-.94 2.06-2.06.94zm10 10l.94 2.06.94-2.06 2.06-.94-2.06-.94-.94-2.06-.94 2.06-2.06.94z\"/><path d=\"M17.41 7.96l-1.37-1.37c-.4-.4-.92-.59-1.43-.59-.52 0-1.04.2-1.43.59L10.3 9.45l-7.72 7.72c-.78.78-.78 2.05 0 2.83L4 21.41c.39.39.9.59 1.41.59.51 0 1.02-.2 1.41-.59l7.78-7.78 2.81-2.81c.8-.78.8-2.07 0-2.86zM5.41 20L4 18.59l7.72-7.72 1.47 1.35L5.41 20z\"/>\n",
       "  </svg>\n",
       "      </button>\n",
       "      \n",
       "  <style>\n",
       "    .colab-df-container {\n",
       "      display:flex;\n",
       "      flex-wrap:wrap;\n",
       "      gap: 12px;\n",
       "    }\n",
       "\n",
       "    .colab-df-convert {\n",
       "      background-color: #E8F0FE;\n",
       "      border: none;\n",
       "      border-radius: 50%;\n",
       "      cursor: pointer;\n",
       "      display: none;\n",
       "      fill: #1967D2;\n",
       "      height: 32px;\n",
       "      padding: 0 0 0 0;\n",
       "      width: 32px;\n",
       "    }\n",
       "\n",
       "    .colab-df-convert:hover {\n",
       "      background-color: #E2EBFA;\n",
       "      box-shadow: 0px 1px 2px rgba(60, 64, 67, 0.3), 0px 1px 3px 1px rgba(60, 64, 67, 0.15);\n",
       "      fill: #174EA6;\n",
       "    }\n",
       "\n",
       "    [theme=dark] .colab-df-convert {\n",
       "      background-color: #3B4455;\n",
       "      fill: #D2E3FC;\n",
       "    }\n",
       "\n",
       "    [theme=dark] .colab-df-convert:hover {\n",
       "      background-color: #434B5C;\n",
       "      box-shadow: 0px 1px 3px 1px rgba(0, 0, 0, 0.15);\n",
       "      filter: drop-shadow(0px 1px 2px rgba(0, 0, 0, 0.3));\n",
       "      fill: #FFFFFF;\n",
       "    }\n",
       "  </style>\n",
       "\n",
       "      <script>\n",
       "        const buttonEl =\n",
       "          document.querySelector('#df-d47be6c1-3482-41b2-b7c6-6dece0ac150f button.colab-df-convert');\n",
       "        buttonEl.style.display =\n",
       "          google.colab.kernel.accessAllowed ? 'block' : 'none';\n",
       "\n",
       "        async function convertToInteractive(key) {\n",
       "          const element = document.querySelector('#df-d47be6c1-3482-41b2-b7c6-6dece0ac150f');\n",
       "          const dataTable =\n",
       "            await google.colab.kernel.invokeFunction('convertToInteractive',\n",
       "                                                     [key], {});\n",
       "          if (!dataTable) return;\n",
       "\n",
       "          const docLinkHtml = 'Like what you see? Visit the ' +\n",
       "            '<a target=\"_blank\" href=https://colab.research.google.com/notebooks/data_table.ipynb>data table notebook</a>'\n",
       "            + ' to learn more about interactive tables.';\n",
       "          element.innerHTML = '';\n",
       "          dataTable['output_type'] = 'display_data';\n",
       "          await google.colab.output.renderOutput(dataTable, element);\n",
       "          const docLink = document.createElement('div');\n",
       "          docLink.innerHTML = docLinkHtml;\n",
       "          element.appendChild(docLink);\n",
       "        }\n",
       "      </script>\n",
       "    </div>\n",
       "  </div>\n",
       "  "
      ],
      "text/plain": [
       "      Id  SepalLengthCm  SepalWidthCm  PetalLengthCm  PetalWidthCm  \\\n",
       "0      1            5.1           3.5            1.4           0.2   \n",
       "1      2            4.9           3.0            1.4           0.2   \n",
       "2      3            4.7           3.2            1.3           0.2   \n",
       "3      4            4.6           3.1            1.5           0.2   \n",
       "4      5            5.0           3.6            1.4           0.2   \n",
       "..   ...            ...           ...            ...           ...   \n",
       "145  146            6.7           3.0            5.2           2.3   \n",
       "146  147            6.3           2.5            5.0           1.9   \n",
       "147  148            6.5           3.0            5.2           2.0   \n",
       "148  149            6.2           3.4            5.4           2.3   \n",
       "149  150            5.9           3.0            5.1           1.8   \n",
       "\n",
       "            Species  \n",
       "0       Iris-setosa  \n",
       "1       Iris-setosa  \n",
       "2       Iris-setosa  \n",
       "3       Iris-setosa  \n",
       "4       Iris-setosa  \n",
       "..              ...  \n",
       "145  Iris-virginica  \n",
       "146  Iris-virginica  \n",
       "147  Iris-virginica  \n",
       "148  Iris-virginica  \n",
       "149  Iris-virginica  \n",
       "\n",
       "[150 rows x 6 columns]"
      ]
     },
     "execution_count": 7,
     "metadata": {},
     "output_type": "execute_result"
    }
   ],
   "source": [
    "iris = pd.read_csv('https://raw.githubusercontent.com/rakanakml17/Latihan-5/main/Iris.csv')\n",
    "iris"
   ]
  },
  {
   "cell_type": "code",
   "execution_count": null,
   "metadata": {
    "id": "hGUxnwNE5ZDE"
   },
   "outputs": [],
   "source": [
    "X = iris.iloc[:, 1:5].values # feature matrix\n",
    "y = iris.iloc[:, -1].values # class matrix"
   ]
  },
  {
   "cell_type": "code",
   "execution_count": null,
   "metadata": {
    "id": "iVM5Ms-y5wCN"
   },
   "outputs": [],
   "source": [
    "def purity_score(y_true, y_pred):\n",
    "    # compute contingency matrix (also called confusion matrix)\n",
    "    confusion_matrix = contingency_matrix(y_true, y_pred)\n",
    "    # return purity\n",
    "    return np.sum(np.amax(confusion_matrix, axis=0)) / np.sum(confusion_matrix)"
   ]
  },
  {
   "cell_type": "markdown",
   "metadata": {
    "id": "hG_mCfaRjvGz"
   },
   "source": [
    "### **K-Means = 3**"
   ]
  },
  {
   "cell_type": "code",
   "execution_count": null,
   "metadata": {
    "colab": {
     "base_uri": "https://localhost:8080/"
    },
    "id": "6ERU59bO5crH",
    "outputId": "ea40f4e9-bc97-4f35-aa51-3c87359fcd9c"
   },
   "outputs": [
    {
     "name": "stdout",
     "output_type": "stream",
     "text": [
      "The purity score for euclidean distance is 88.67%\n",
      "The purity score for manhattan distance is 88.67%\n",
      "The purity score for chebyshev distance is 88.67%\n"
     ]
    }
   ],
   "source": [
    "# define dictionary for distance measures\n",
    "distance_measures = {'euclidean': 0, 'manhattan': 1, 'chebyshev': 2}\n",
    "\n",
    "# function defined to compute purity score using pyclustering for various distance measures\n",
    "def pyPurity(dist_measure):\n",
    "    initial_centers = random_center_initializer(X, 3, random_state=5).initialize()\n",
    "    # instance created for respective distance metric\n",
    "    instanceKm = kmeans(X, initial_centers=initial_centers, metric=distance_metric(dist_measure))\n",
    "    # perform cluster analysis\n",
    "    instanceKm.process()\n",
    "    # cluster analysis results - clusters and centers\n",
    "    pyClusters = instanceKm.get_clusters()\n",
    "    pyCenters = instanceKm.get_centers()\n",
    "    # enumerate encoding type to index labeling to get labels\n",
    "    pyEncoding = instanceKm.get_cluster_encoding()\n",
    "    pyEncoder = cluster_encoder(pyEncoding, pyClusters, X)\n",
    "    pyLabels = pyEncoder.set_encoding(0).get_clusters()\n",
    "    # function purity score is defined in previous section\n",
    "    return purity_score(y, pyLabels)\n",
    "\n",
    "# print results\n",
    "for measure, value in distance_measures.items():\n",
    "    print(f\"The purity score for {measure} distance is {round(pyPurity(value)*100, 2)}%\")"
   ]
  },
  {
   "cell_type": "markdown",
   "metadata": {
    "id": "S0qz9PbxkA9c"
   },
   "source": [
    "### **K-Means = 4**"
   ]
  },
  {
   "cell_type": "code",
   "execution_count": null,
   "metadata": {
    "colab": {
     "base_uri": "https://localhost:8080/"
    },
    "id": "IxGIUWtBeW8b",
    "outputId": "e50d3339-ca95-426e-b6ca-8e363d9ceadf"
   },
   "outputs": [
    {
     "name": "stdout",
     "output_type": "stream",
     "text": [
      "The purity score for euclidean distance is 85.33%\n",
      "The purity score for manhattan distance is 85.33%\n",
      "The purity score for chebyshev distance is 84.67%\n"
     ]
    }
   ],
   "source": [
    "# define dictionary for distance measures\n",
    "distance_measures = {'euclidean': 0, 'manhattan': 1, 'chebyshev': 2}\n",
    "\n",
    "# function defined to compute purity score using pyclustering for various distance measures\n",
    "def pyPurity(dist_measure):\n",
    "    initial_centers = random_center_initializer(X, 4, random_state=5).initialize()\n",
    "    # instance created for respective distance metric\n",
    "    instanceKm = kmeans(X, initial_centers=initial_centers, metric=distance_metric(dist_measure))\n",
    "    # perform cluster analysis\n",
    "    instanceKm.process()\n",
    "    # cluster analysis results - clusters and centers\n",
    "    pyClusters = instanceKm.get_clusters()\n",
    "    pyCenters = instanceKm.get_centers()\n",
    "    # enumerate encoding type to index labeling to get labels\n",
    "    pyEncoding = instanceKm.get_cluster_encoding()\n",
    "    pyEncoder = cluster_encoder(pyEncoding, pyClusters, X)\n",
    "    pyLabels = pyEncoder.set_encoding(0).get_clusters()\n",
    "    # function purity score is defined in previous section\n",
    "    return purity_score(y, pyLabels)\n",
    "\n",
    "# print results\n",
    "for measure, value in distance_measures.items():\n",
    "    print(f\"The purity score for {measure} distance is {round(pyPurity(value)*100, 2)}%\")"
   ]
  },
  {
   "cell_type": "markdown",
   "metadata": {
    "id": "UCpW4dwTkFjG"
   },
   "source": [
    "### **K-Means = 5**"
   ]
  },
  {
   "cell_type": "code",
   "execution_count": null,
   "metadata": {
    "colab": {
     "base_uri": "https://localhost:8080/"
    },
    "id": "OSd_DGDrfrp8",
    "outputId": "7c11673a-9d5e-472f-ec46-333c597b4f40"
   },
   "outputs": [
    {
     "name": "stdout",
     "output_type": "stream",
     "text": [
      "The purity score for euclidean distance is 98.0%\n",
      "The purity score for manhattan distance is 98.0%\n",
      "The purity score for chebyshev distance is 97.33%\n"
     ]
    }
   ],
   "source": [
    "# define dictionary for distance measures\n",
    "distance_measures = {'euclidean': 0, 'manhattan': 1, 'chebyshev': 2}\n",
    "\n",
    "# function defined to compute purity score using pyclustering for various distance measures\n",
    "def pyPurity(dist_measure):\n",
    "    initial_centers = random_center_initializer(X, 5, random_state=5).initialize()\n",
    "    # instance created for respective distance metric\n",
    "    instanceKm = kmeans(X, initial_centers=initial_centers, metric=distance_metric(dist_measure))\n",
    "    # perform cluster analysis\n",
    "    instanceKm.process()\n",
    "    # cluster analysis results - clusters and centers\n",
    "    pyClusters = instanceKm.get_clusters()\n",
    "    pyCenters = instanceKm.get_centers()\n",
    "    # enumerate encoding type to index labeling to get labels\n",
    "    pyEncoding = instanceKm.get_cluster_encoding()\n",
    "    pyEncoder = cluster_encoder(pyEncoding, pyClusters, X)\n",
    "    pyLabels = pyEncoder.set_encoding(0).get_clusters()\n",
    "    # function purity score is defined in previous section\n",
    "    return purity_score(y, pyLabels)\n",
    "\n",
    "# print results\n",
    "for measure, value in distance_measures.items():\n",
    "    print(f\"The purity score for {measure} distance is {round(pyPurity(value)*100, 2)}%\")"
   ]
  },
  {
   "cell_type": "markdown",
   "metadata": {
    "id": "V6ZOMmdOkRUg"
   },
   "source": [
    "### **Kesimpulan**"
   ]
  },
  {
   "cell_type": "markdown",
   "metadata": {
    "id": "q4c95gq9gBxw"
   },
   "source": [
    "Pada 3 nilai *k-means* yang berbeda dengan `random_state = 5`, terlihat bahwa untuk $k = 5$ memiliki *purity score* terbesar, yaitu sebesar 98% untuk *euclidiean distance* dan *manhattan distance*, serta untuk *chebyshev distance* sebesar 97.33%. Sedangkan, $k = 3$ memiliki *purity score* yang sama sebesar 88.67% untuk ketiga *distance*. Selain itu, untuk $k = 4$ memiliki *purity score* sebesar 85.33% untuk *euclidiean distance* dan *manhattan distance*, serta untuk *chebyshev distance* sebesar 84.67%"
   ]
  },
  {
   "cell_type": "markdown",
   "metadata": {
    "id": "ywTAd4xq7yhS"
   },
   "source": [
    "###**Similarity Measures for Binary Data**\n",
    "\n",
    "Hitunglah Jaccard score untuk data berikut:\n",
    "![Screenshot 2022-12-02 080133.png](data:image/png;base64,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)"
   ]
  },
  {
   "cell_type": "code",
   "execution_count": null,
   "metadata": {
    "id": "rG7-RPYY7z4V"
   },
   "outputs": [],
   "source": [
    "import numpy as np\n",
    "from sklearn.metrics import jaccard_score\n",
    "userA = np.array([[1, 1, 0, 0]])\n",
    "userB = np.array([[1, 1, 1, 0]])\n",
    "userC = np.array([[1, 0, 0, 0]])"
   ]
  },
  {
   "cell_type": "code",
   "execution_count": null,
   "metadata": {
    "colab": {
     "base_uri": "https://localhost:8080/"
    },
    "id": "fDfInnmDQmyf",
    "outputId": "ed8a7fb0-50ae-47f1-fce7-985933eb1c31"
   },
   "outputs": [
    {
     "name": "stdout",
     "output_type": "stream",
     "text": [
      "0.6666666666666666\n",
      "0.3333333333333333\n",
      "0.5\n"
     ]
    }
   ],
   "source": [
    "ab = jaccard_score(userA, userB, average = 'samples')\n",
    "bc = jaccard_score(userB, userC, average = 'samples')\n",
    "ac = jaccard_score(userA, userC, average = 'samples')\n",
    "print(ab)\n",
    "print(bc)\n",
    "print(ac)"
   ]
  }
 ],
 "metadata": {
  "colab": {
   "collapsed_sections": [
    "_Cn7TqrSXcnX"
   ],
   "provenance": []
  },
  "kernelspec": {
   "display_name": "Python 3 (ipykernel)",
   "language": "python",
   "name": "python3"
  },
  "language_info": {
   "codemirror_mode": {
    "name": "ipython",
    "version": 3
   },
   "file_extension": ".py",
   "mimetype": "text/x-python",
   "name": "python",
   "nbconvert_exporter": "python",
   "pygments_lexer": "ipython3",
   "version": "3.9.12"
  }
 },
 "nbformat": 4,
 "nbformat_minor": 1
}
